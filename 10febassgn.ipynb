{
 "cells": [
  {
   "cell_type": "markdown",
   "id": "1b736fd1-14fd-45b0-bb2b-a0537c3114e0",
   "metadata": {},
   "source": [
    "1ans:"
   ]
  },
  {
   "cell_type": "markdown",
   "id": "0fdc7cdd-1601-4938-917c-a3271460f196",
   "metadata": {},
   "source": [
    "In Python, the built-in open() function is used to open a file.\n",
    "There are several modes in which a file can be opened. The most commonly used modes are:\n",
    "\n",
    "r: Read mode. This is the default mode. The file is opened for reading, and if the file doesn't exist, an error is raised.\n",
    "\n",
    "w: Write mode. The file is opened for writing, and if the file doesn't exist, a new file is created. If the file already exists, its contents are truncated.\n",
    "\n",
    "a: Append mode. The file is opened for writing, and if the file doesn't exist, a new file is created. If the file already exists, the new data is appended to the end of the file.\n",
    "b: Binary mode. This mode is used for working with binary files, such as images, audio files, or compressed files."
   ]
  },
  {
   "cell_type": "markdown",
   "id": "31f35b13-d5e7-41a1-8591-63da9025ae2a",
   "metadata": {},
   "source": [
    "2ans:"
   ]
  },
  {
   "cell_type": "markdown",
   "id": "797e384d-3dcc-487a-9d3b-673d9b5339eb",
   "metadata": {},
   "source": [
    "The close() function is used to close a file that was opened with the open() function in programming. It's important to close a file because when a file is opened, it consumes system resources and memory.\n",
    "Closing a file ensures that any data written to the file is properly saved and any resources used by the file are freed up for other processes or programs to use.\n",
    "the close() function is important because it properly finalizes the file operations and releases the resources used by the file, preventing potential issues like memory leaks and data loss."
   ]
  },
  {
   "cell_type": "markdown",
   "id": "374fb396-4c13-4829-8b53-bd47e9613c38",
   "metadata": {},
   "source": [
    "3ans:"
   ]
  },
  {
   "cell_type": "code",
   "execution_count": 1,
   "id": "a59a97ab-0693-45e8-b9af-a51dbd17f346",
   "metadata": {},
   "outputs": [
    {
     "name": "stdout",
     "output_type": "stream",
     "text": [
      "I want to become a Data Scientist\n"
     ]
    }
   ],
   "source": [
    "\n",
    "file = open(\"data_scientist.txt\", \"w\")\n",
    "file.write(\"I want to become a Data Scientist\")\n",
    "file.close()\n",
    "file = open(\"data_scientist.txt\", \"r\")\n",
    "content = file.read()\n",
    "print(content)\n",
    "file.close()\n"
   ]
  },
  {
   "cell_type": "markdown",
   "id": "ae003dad-58ce-4e2b-b1e0-15d0fbfd8be0",
   "metadata": {},
   "source": [
    "4ans:"
   ]
  },
  {
   "cell_type": "markdown",
   "id": "ca448767-27dc-4fec-9304-ffd25843e9e8",
   "metadata": {},
   "source": [
    "read():\n",
    "The read() method reads the entire content of the file and returns it as a string."
   ]
  },
  {
   "cell_type": "code",
   "execution_count": null,
   "id": "dbb237bc-36a5-40ed-b7c7-1ec2f27bbd21",
   "metadata": {},
   "outputs": [],
   "source": [
    "\n",
    "file = open(\"example.txt\", \"r\")\n",
    "content = file.read()\n",
    "print(content)\n",
    "file.close()\n"
   ]
  },
  {
   "cell_type": "markdown",
   "id": "b66f2f18-104a-4f78-a600-2961ebb7cc75",
   "metadata": {},
   "source": [
    "readline():\n",
    "The readline() method reads a single line from the file and returns it as a string. If you call the readline() method multiple times, it will keep reading the next line each time it is called."
   ]
  },
  {
   "cell_type": "code",
   "execution_count": null,
   "id": "94da1464-d6e3-4c52-9459-2c18e242115e",
   "metadata": {},
   "outputs": [],
   "source": [
    "\n",
    "file = open(\"example.txt\", \"r\")\n",
    "line1 = file.readline()\n",
    "line2 = file.readline()\n",
    "print(line1)\n",
    "print(line2)\n",
    "file.close()\n"
   ]
  },
  {
   "cell_type": "markdown",
   "id": "3080cefc-d5ea-4ee5-8d7b-a840a3cc9090",
   "metadata": {},
   "source": [
    "readlines():\n",
    "The readlines() method reads all the lines of the file and returns them as a list of strings. "
   ]
  },
  {
   "cell_type": "code",
   "execution_count": null,
   "id": "06b78616-9379-4d33-a468-68da3639a9ad",
   "metadata": {},
   "outputs": [],
   "source": [
    "\n",
    "file = open(\"example.txt\", \"r\")\n",
    "lines = file.readlines()\n",
    "for line in lines:\n",
    "    print(line)\n",
    "file.close()\n"
   ]
  },
  {
   "cell_type": "markdown",
   "id": "787299e4-f06b-4003-947a-480ed9686598",
   "metadata": {},
   "source": [
    "5ans:"
   ]
  },
  {
   "cell_type": "markdown",
   "id": "e6e8351e-ab97-4df7-bcca-844da1100e18",
   "metadata": {},
   "source": [
    "The with statement is used with open() in Python to ensure that the file being opened is properly closed after use. When a file is opened using open(), it is important to close the file handle explicitly when it is no longer needed.\n",
    "The advantage of using the with statement with open() is that it automatically handles the closing of the file, regardless of whether an exception is thrown during the file operation. This means that the file is always closed properly, even if an error occurs during the execution of the with block."
   ]
  },
  {
   "cell_type": "markdown",
   "id": "5da4ea44-8780-4959-8eda-e2a4ee09bf89",
   "metadata": {},
   "source": [
    "6ans:\n"
   ]
  },
  {
   "cell_type": "markdown",
   "id": "3977737e-7dd5-4a06-bfe0-8f84d4017d6d",
   "metadata": {},
   "source": [
    "The write() function is used to write a string to a file. It takes a single argument which is the string to be written to the file."
   ]
  },
  {
   "cell_type": "code",
   "execution_count": null,
   "id": "f6dfabf1-3354-4d2c-8c99-b7877085b60f",
   "metadata": {},
   "outputs": [],
   "source": []
  }
 ],
 "metadata": {
  "kernelspec": {
   "display_name": "Python 3 (ipykernel)",
   "language": "python",
   "name": "python3"
  },
  "language_info": {
   "codemirror_mode": {
    "name": "ipython",
    "version": 3
   },
   "file_extension": ".py",
   "mimetype": "text/x-python",
   "name": "python",
   "nbconvert_exporter": "python",
   "pygments_lexer": "ipython3",
   "version": "3.10.8"
  }
 },
 "nbformat": 4,
 "nbformat_minor": 5
}
